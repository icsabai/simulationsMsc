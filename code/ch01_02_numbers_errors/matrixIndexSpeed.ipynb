{
 "cells": [
  {
   "cell_type": "markdown",
   "metadata": {},
   "source": [
    "# Matrix indexing speed test\n",
    "- see _14.16.2 Exercise 2: Cache Flow_ in R. Landau book"
   ]
  },
  {
   "cell_type": "code",
   "execution_count": 1,
   "metadata": {},
   "outputs": [],
   "source": [
    "import numpy as np\n",
    "import time"
   ]
  },
  {
   "cell_type": "code",
   "execution_count": 38,
   "metadata": {},
   "outputs": [
    {
     "name": "stdout",
     "output_type": "stream",
     "text": [
      "15.594711542129517\n"
     ]
    }
   ],
   "source": [
    "n = 5000\n",
    "a = np.ones([n,n])\n",
    "summa=0.0\n",
    "start = time.time()\n",
    "for i in range(n):\n",
    "    for j in range(n):\n",
    "        a[i,j] = a[i,j]*a[i,j]+1.0\n",
    "end = time.time()\n",
    "print(end - start)"
   ]
  },
  {
   "cell_type": "code",
   "execution_count": 39,
   "metadata": {},
   "outputs": [
    {
     "name": "stdout",
     "output_type": "stream",
     "text": [
      "15.851111888885498\n"
     ]
    }
   ],
   "source": [
    "n = 5000\n",
    "a = np.ones([n,n])\n",
    "summa=0.0\n",
    "start = time.time()\n",
    "for j in range(n):\n",
    "    for i in range(n):\n",
    "        a[i,j] = a[i,j]*a[i,j]+1.0\n",
    "end = time.time()\n",
    "print(end - start)"
   ]
  },
  {
   "cell_type": "markdown",
   "metadata": {},
   "source": [
    "### Conclusion:\n",
    "Only minor difference, if any"
   ]
  },
  {
   "cell_type": "markdown",
   "metadata": {},
   "source": [
    "### And finally, the GOOD vectorized version"
   ]
  },
  {
   "cell_type": "code",
   "execution_count": 40,
   "metadata": {},
   "outputs": [
    {
     "name": "stdout",
     "output_type": "stream",
     "text": [
      "0.1713113784790039\n"
     ]
    }
   ],
   "source": [
    "n = 5000\n",
    "a = np.ones([n,n])\n",
    "summa=0.0\n",
    "start = time.time()\n",
    "a = a*a+1.0\n",
    "end = time.time()\n",
    "print(end - start)"
   ]
  },
  {
   "cell_type": "code",
   "execution_count": null,
   "metadata": {},
   "outputs": [],
   "source": []
  }
 ],
 "metadata": {
  "kernelspec": {
   "display_name": "Python anaconda3",
   "language": "python",
   "name": "anaconda3-env"
  },
  "language_info": {
   "codemirror_mode": {
    "name": "ipython",
    "version": 3
   },
   "file_extension": ".py",
   "mimetype": "text/x-python",
   "name": "python",
   "nbconvert_exporter": "python",
   "pygments_lexer": "ipython3",
   "version": "3.6.3"
  }
 },
 "nbformat": 4,
 "nbformat_minor": 2
}
