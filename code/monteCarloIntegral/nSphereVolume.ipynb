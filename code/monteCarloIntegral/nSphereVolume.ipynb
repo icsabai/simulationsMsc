{
 "cells": [
  {
   "cell_type": "markdown",
   "metadata": {},
   "source": [
    "# Compare Monte Carlo and simple Riemann integral\n",
    "by calculating the volume of N-dimensional sphere with same number of function evaluations"
   ]
  },
  {
   "cell_type": "code",
   "execution_count": 1,
   "metadata": {
    "collapsed": true
   },
   "outputs": [],
   "source": [
    "import numpy as np\n",
    "import matplotlib.pyplot as plt\n",
    "%matplotlib inline"
   ]
  },
  {
   "cell_type": "markdown",
   "metadata": {},
   "source": [
    "### Demonstration in 2 dimensions"
   ]
  },
  {
   "cell_type": "code",
   "execution_count": 399,
   "metadata": {},
   "outputs": [
    {
     "name": "stdout",
     "output_type": "stream",
     "text": [
      "Riemann: 1.00013343167\n",
      "MC: 0.98676064717\n"
     ]
    },
    {
     "data": {
      "image/png": "[encoded data removed]",
      "text/plain": [
       "<matplotlib.figure.Figure at 0x7f5df45d1f28>"
      ]
     },
     "metadata": {},
     "output_type": "display_data"
    }
   ],
   "source": [
    "# 2D: Half circle\n",
    "\n",
    "def half_circle(x,r):\n",
    "    return np.sqrt(r*r-x*x)\n",
    "\n",
    "# number of divisions\n",
    "n = 200\n",
    "\n",
    "# Riemann integral\n",
    "x100 = np.arange(-1.0,1.0,0.01)\n",
    "#xN = np.linspace(-1,1,n)\n",
    "halfBin = 2.0/(n-1) / 2\n",
    "xN = np.linspace(-(1-halfBin),1-halfBin,n) # shift with half bin\n",
    "\n",
    "fig = plt.figure(figsize=(12,3))\n",
    "ax1 = fig.add_subplot(121)\n",
    "ax1.plot(x100,half_circle(x100,1.0),'b')\n",
    "ax1.bar(xN,half_circle(xN,1.0), width=0.9/n)\n",
    "\n",
    "\n",
    "# MC integral\n",
    "#xMC = 2*np.random.rand(n)-1.0\n",
    "#yMC = np.random.rand(n)\n",
    "#USE LCG instead\n",
    "xMC = 2*lcgN(n)-1.0\n",
    "yMC = lcgN(n)\n",
    "aboveIdx = (yMC >= half_circle(xMC,1.0))\n",
    "belowIdx = (yMC < half_circle(xMC,1.0))\n",
    "            \n",
    "ax2 = fig.add_subplot(122)\n",
    "ax2.plot(x100,half_circle(x100,1.0),'b')\n",
    "ax2.plot(xMC[belowIdx],yMC[belowIdx],'bx')\n",
    "ax2.plot(xMC[aboveIdx],yMC[aboveIdx],'rx')    \n",
    "\n",
    "dx = 2.0/len(xN)\n",
    "areaCirc = np.pi\n",
    "\n",
    "print('Riemann:',2*np.nan_to_num(half_circle(xN,1.0)).sum() * dx / areaCirc) \n",
    "\n",
    "print('MC:',2*belowIdx.sum()/n/(np.pi/2.0))\n",
    "\n"
   ]
  },
  {
   "cell_type": "code",
   "execution_count": 375,
   "metadata": {},
   "outputs": [],
   "source": [
    "#xN"
   ]
  },
  {
   "cell_type": "markdown",
   "metadata": {},
   "source": [
    "### Higher dimensions\n",
    "\n",
    "$$ {\\displaystyle V_{n}(R)={\\frac {\\pi ^{\\frac {n}{2}}}{\\Gamma \\left({\\frac {n}{2}}+1\\right)}}R^{n},} $$"
   ]
  },
  {
   "cell_type": "code",
   "execution_count": 407,
   "metadata": {},
   "outputs": [
    {
     "name": "stderr",
     "output_type": "stream",
     "text": [
      "/opt/conda/lib/python3.5/site-packages/ipykernel_launcher.py:13: RuntimeWarning: invalid value encountered in sqrt\n",
      "  del sys.path[0]\n"
     ]
    },
    {
     "name": "stdout",
     "output_type": "stream",
     "text": [
      "Riemann: 1.055572013\n",
      "MC: 0.0 MC: 0.0 MC: 0.0 MC: 0.0 MC: 0.0 MC: 0.0 MC: 0.0 MC: 0.0 MC: 0.0 MC: 0.0 MC: 0.0 MC: 0.0 MC: 0.0 MC: 0.0 MC: 0.0 MC: 0.0 MC: 0.0 MC: 0.0 MC: 0.0 MC: 0.0 MC: 0.0 MC: 0.0 MC: 0.0 MC: 0.0 MC: 0.0 MC: 0.0 MC: 0.0 MC: 0.0 MC: 0.0 MC: 0.0 "
     ]
    }
   ],
   "source": [
    "# d dim, half hypersphere above a d-1 dimensional hypersphere\n",
    "\n",
    "import math\n",
    "\n",
    "\n",
    "\n",
    "def nSphereVolume(dd):\n",
    "    '''The exact volume of a dd dimensional sphere'''\n",
    "    return math.pi**(dd/2)/math.gamma(dd/2 + 1)\n",
    "\n",
    "def half_hyperSphere(x,r):\n",
    "    '''Returns the height of a radius r half-hypersphere above x'''\n",
    "    return np.sqrt(r*r - (x*x).sum(axis=0))\n",
    "\n",
    "# Riemann\n",
    "\n",
    "DIM = 5\n",
    "d = DIM-1 # this is(DIM-1), the hyperplane's dimension\n",
    "n1 = int(10000**(1.0/d)) # the grid resolution on one side: max 100 in 4+1D\n",
    "#x1 = np.array( np.meshgrid(*[np.linspace(i,j,n1) for i,j in zip(-np.ones(d),np.ones(d))]) )\n",
    "halfBin = 2.0/(n1-1) / 2\n",
    "x1 = np.array( np.meshgrid(*[np.linspace(i,j,n1) for i,j in zip(-np.ones(d)+halfBin,np.ones(d)-halfBin)]) )\n",
    "dV = 2.0**d/n1**d\n",
    "\n",
    "# evaluate the hypersphere function and calculate the integral\n",
    "funcValues = np.nan_to_num(half_hyperSphere(x1,1.0))\n",
    "vol1 = funcValues.sum() * dV / (nSphereVolume(d+1) / 2)\n",
    "print('Riemann:', vol1 )\n",
    "\n",
    "# MC\n",
    "\n",
    "# MC integral\n",
    "nTry = 30 # several trials\n",
    "idx = np.arange(nTry)\n",
    "mcVec = [] # this will collect the estimates\n",
    "for i in idx:  \n",
    "    ##xMC = 2*np.random.rand(d,n1**d)-1\n",
    "    #yMC = np.random.rand(n1**d)\n",
    "    ### USE LCG\n",
    "    xMC = 2 * np.array([lcgN(n1**d) for k in range(d)])-1 \n",
    "    yMC = lcgN(n1**d)\n",
    "    aboveIdx = (yMC >= np.nan_to_num(half_hyperSphere(xMC,1.0)))\n",
    "    belowIdx = (yMC < np.nan_to_num(half_hyperSphere(xMC,1.0)))\n",
    "    mcVol = belowIdx.sum() /(belowIdx.sum()+aboveIdx.sum()) * 2**(d+1) / (nSphereVolume(d+1))\n",
    "    mcVec.append(mcVol)\n",
    "    print('MC:',mcVol,end=\" \")\n",
    "\n"
   ]
  },
  {
   "cell_type": "code",
   "execution_count": 405,
   "metadata": {},
   "outputs": [
    {
     "name": "stdout",
     "output_type": "stream",
     "text": [
      "Riemann difference from true ratio: -0.0555720130021\n",
      "MC standard deviation around true ratio: 0.0218651489911\n"
     ]
    }
   ],
   "source": [
    "print('Riemann difference from true ratio:', 1-vol1)\n",
    "print('MC standard deviation around true ratio:', np.std(mcVec))"
   ]
  },
  {
   "cell_type": "code",
   "execution_count": 394,
   "metadata": {},
   "outputs": [
    {
     "data": {
      "text/plain": [
       "<matplotlib.legend.Legend at 0x7f5df334b668>"
      ]
     },
     "execution_count": 394,
     "metadata": {},
     "output_type": "execute_result"
    },
    {
     "data": {
      "image/png": "[encoded data removed]",
      "text/plain": [
       "<matplotlib.figure.Figure at 0x7f5df448ee48>"
      ]
     },
     "metadata": {},
     "output_type": "display_data"
    }
   ],
   "source": [
    "fig = plt.figure(figsize=(12,6))\n",
    "ax1 = fig.add_subplot(111)\n",
    "ax1.plot(idx,np.ones(nTry),linewidth=3,label='exact')\n",
    "ax1.plot(idx,vol1*np.ones(nTry),label='Riemann')\n",
    "ax1.plot(idx,mcVec,'-o',label='MC')\n",
    "ax1.set_xlabel('trial idx')\n",
    "ax1.set_ylabel('estimated/exact volume')\n",
    "ax1.grid()\n",
    "ax1.legend()"
   ]
  },
  {
   "cell_type": "markdown",
   "metadata": {},
   "source": [
    "### Test simple LInear Congruent Generator"
   ]
  },
  {
   "cell_type": "code",
   "execution_count": 401,
   "metadata": {
    "collapsed": true
   },
   "outputs": [],
   "source": [
    "def seedLCG(initVal):\n",
    "    global randLCG\n",
    "    randLCG = initVal\n",
    "    \n",
    "def lcg():\n",
    "    a = 1140671485 #4\n",
    "    c = 128201163 # 1\n",
    "    m =  2**24 # 9\n",
    "    global randLCG\n",
    "    randLCG = (a*randLCG + c) % m\n",
    "    return randLCG / m\n",
    "\n",
    "def lcgN(n):\n",
    "    return np.array([lcg() for i in range(n)])"
   ]
  },
  {
   "cell_type": "code",
   "execution_count": 406,
   "metadata": {
    "collapsed": true
   },
   "outputs": [],
   "source": [
    "def seedLCG(initVal):\n",
    "    global randLCG\n",
    "    randLCG = initVal\n",
    "    \n",
    "def lcg():\n",
    "    a = 4\n",
    "    c = 1\n",
    "    m =  9\n",
    "    global randLCG\n",
    "    randLCG = (a*randLCG + c) % m\n",
    "    return randLCG / m\n",
    "\n",
    "def lcgN(n):\n",
    "    return np.array([lcg() for i in range(n)])"
   ]
  },
  {
   "cell_type": "code",
   "execution_count": 359,
   "metadata": {},
   "outputs": [
    {
     "data": {
      "text/plain": [
       "array([ 0.60934079,  0.94434386,  0.38775992,  0.89973587,  0.27463567,\n",
       "        0.10495335,  0.68644905,  0.91211575,  0.76215422,  0.31842309])"
      ]
     },
     "execution_count": 359,
     "metadata": {},
     "output_type": "execute_result"
    }
   ],
   "source": [
    "seedLCG(3)\n",
    "\n",
    "lcgN(10)"
   ]
  },
  {
   "cell_type": "code",
   "execution_count": null,
   "metadata": {
    "collapsed": true
   },
   "outputs": [],
   "source": []
  }
 ],
 "metadata": {
  "kernelspec": {
   "display_name": "Python 3",
   "language": "python",
   "name": "python3"
  },
  "language_info": {
   "codemirror_mode": {
    "name": "ipython",
    "version": 3
   },
   "file_extension": ".py",
   "mimetype": "text/x-python",
   "name": "python",
   "nbconvert_exporter": "python",
   "pygments_lexer": "ipython3",
   "version": "3.5.2"
  }
 },
 "nbformat": 4,
 "nbformat_minor": 2
}
