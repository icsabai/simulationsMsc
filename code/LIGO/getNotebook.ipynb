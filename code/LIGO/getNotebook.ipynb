{
 "cells": [
  {
   "cell_type": "markdown",
   "metadata": {},
   "source": [
    "# Get LIGO events data and example notebook"
   ]
  },
  {
   "cell_type": "markdown",
   "metadata": {},
   "source": [
    "### Download"
   ]
  },
  {
   "cell_type": "code",
   "execution_count": 4,
   "metadata": {},
   "outputs": [
    {
     "name": "stdout",
     "output_type": "stream",
     "text": [
      "  % Total    % Received % Xferd  Average Speed   Time    Time     Time  Current\n",
      "                                 Dload  Upload   Total   Spent    Left  Speed\n",
      "100 16.6M  100 16.6M    0     0  5409k      0  0:00:03  0:00:03 --:--:-- 5420k\n"
     ]
    }
   ],
   "source": [
    "!curl -O https://losc.ligo.org/s/events/LOSC_Event_tutorial.zip"
   ]
  },
  {
   "cell_type": "markdown",
   "metadata": {},
   "source": [
    "### Unzip"
   ]
  },
  {
   "cell_type": "code",
   "execution_count": 8,
   "metadata": {
    "collapsed": true
   },
   "outputs": [],
   "source": [
    "import sys\n",
    "from zipfile import PyZipFile\n",
    "\n",
    "pzf = PyZipFile('LOSC_Event_tutorial.zip')\n",
    "pzf.extractall()"
   ]
  },
  {
   "cell_type": "code",
   "execution_count": 10,
   "metadata": {},
   "outputs": [
    {
     "name": "stdout",
     "output_type": "stream",
     "text": [
      "BBH_events_v3.json\t\t   L-L1_LOSC_4_V1-1167559920-32.hdf5\r\n",
      "GW150914_4_template.hdf5\t   L-L1_LOSC_4_V2-1126259446-32.hdf5\r\n",
      "GW151226_4_template.hdf5\t   L-L1_LOSC_4_V2-1128678884-32.hdf5\r\n",
      "GW170104_4_template.hdf5\t   L-L1_LOSC_4_V2-1135136334-32.hdf5\r\n",
      "H-H1_LOSC_4_V1-1167559920-32.hdf5  LOSC_Event_tutorial.ipynb\r\n",
      "H-H1_LOSC_4_V2-1126259446-32.hdf5  LOSC_Event_tutorial.py\r\n",
      "H-H1_LOSC_4_V2-1128678884-32.hdf5  LVT151012_4_template.hdf5\r\n",
      "H-H1_LOSC_4_V2-1135136334-32.hdf5  readligo.py\r\n"
     ]
    }
   ],
   "source": [
    "!ls LOSC_Event_tutorial/"
   ]
  },
  {
   "cell_type": "code",
   "execution_count": null,
   "metadata": {
    "collapsed": true
   },
   "outputs": [],
   "source": []
  }
 ],
 "metadata": {
  "kernelspec": {
   "display_name": "Python 3",
   "language": "python",
   "name": "python3"
  },
  "language_info": {
   "codemirror_mode": {
    "name": "ipython",
    "version": 3
   },
   "file_extension": ".py",
   "mimetype": "text/x-python",
   "name": "python",
   "nbconvert_exporter": "python",
   "pygments_lexer": "ipython3",
   "version": "3.5.2"
  }
 },
 "nbformat": 4,
 "nbformat_minor": 2
}
