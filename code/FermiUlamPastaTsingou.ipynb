{
 "cells": [
  {
   "cell_type": "markdown",
   "metadata": {},
   "source": [
    "# Fermi-Pasta-Ulam-Tsingou model\n",
    "See:\n",
    "- https://en.wikipedia.org/wiki/Fermi%E2%80%93Pasta%E2%80%93Ulam_problem\n",
    "- https://arxiv.org/pdf/nlin/0501053.pdf"
   ]
  },
  {
   "cell_type": "markdown",
   "metadata": {},
   "source": [
    "### The FPU differential equation\n",
    "Put this cell's content into separate file fpu1.m"
   ]
  },
  {
   "cell_type": "code",
   "execution_count": null,
   "metadata": {
    "collapsed": true
   },
   "outputs": [],
   "source": [
    "function dy=fpu1(t,y) \n",
    "    N=32;\n",
    "    alpha=0.25; \n",
    "    D(N+1)=y(2) -2*y(1)+alpha*((y(2)-y(1))^2-y(1)^2);D(1)=y(N+1); \n",
    "    D(2*N)=y(N-1)-2*y(N)+alpha*(y(N)^2-(y(N)-y(N-1))^2);D(N)=y(2*N); \n",
    "    for I=2:N-1, \n",
    "        D(N+I)=y(I+1)+y(I-1)-2*y(I)+alpha*((y(I+1)-y(I))^2-(y(I)-y(I-1))^2); \n",
    "        D(I)=y(N+I); \n",
    "    end \n",
    "    dy=D';\n",
    "end\n"
   ]
  },
  {
   "cell_type": "markdown",
   "metadata": {},
   "source": [
    "### Set the parameters"
   ]
  },
  {
   "cell_type": "code",
   "execution_count": 16,
   "metadata": {
    "collapsed": false
   },
   "outputs": [],
   "source": [
    "N=32; % Number of particles must be a power of 2 \n",
    "alpha=0.25; % Nonlinear parameter \n",
    "TMAX=10000; DT=20; % tmax and Delta t \n",
    "tspan=[0:DT:TMAX]; \n",
    "options=odeset('Reltol',1e-4,'OutputFcn','odeplot','OutputSel',[1,2,N]); % Test different tolerances, changing Reltol"
   ]
  },
  {
   "cell_type": "markdown",
   "metadata": {},
   "source": [
    "### Set initial conditions  \n",
    "Each commented line contain different set of initial conditions"
   ]
  },
  {
   "cell_type": "code",
   "execution_count": 17,
   "metadata": {
    "collapsed": true
   },
   "outputs": [],
   "source": [
    " for I=1:N, \n",
    "    a=1; b(I)=a*sin(pi*I/(N+1)); b(I+N)=0; % FPU initial condition \n",
    "    %a=1; b(I)=a*sin(pi*N*I/(N+1)); b(I+N)=0; % Zabusky-Deem init. cond. \n",
    "    %k=0.8; sk=(sinh(k))^2; ek=exp(-k); i1=I-N/4; i2=i1-N/2; %Solitons \n",
    "    %b(I)=-0.5/alpha*log((1+exp(2*k*(i1-1)))/(1+exp(2*k*i1))); \n",
    "    %b(I)=b(I)+0.5/alpha*log((1+exp(2*k*(i2-1)))/(1+exp(2*k*i2))); \n",
    "    %b(I+N)= sk*ek/alpha/cosh(k*i1)/(exp(-k*i1)+exp(k*i1)*exp(-2*k)); \n",
    "    %b(I+N)=b(I+N)-sk*ek/alpha/cosh(k*i2)/(exp(-k*i2)+exp(k*i2)*exp(-2*k)); \n",
    "    omegak2(I)=4*(sin(pi*I/2/N))^2; % Mode Frequencies \n",
    "end "
   ]
  },
  {
   "cell_type": "markdown",
   "metadata": {},
   "source": [
    "### Time integration of the FPU equation"
   ]
  },
  {
   "cell_type": "code",
   "execution_count": 43,
   "metadata": {
    "collapsed": false,
    "scrolled": false
   },
   "outputs": [
    {
     "data": {
      "image/png": "[encoded data removed]",
      "text/plain": [
       "<IPython.core.display.Image object>"
      ]
     },
     "metadata": {},
     "output_type": "display_data"
    }
   ],
   "source": [
    "[T,Y]=ode45('fpu1',tspan,b',options,N); % Time integration"
   ]
  },
  {
   "cell_type": "code",
   "execution_count": 19,
   "metadata": {
    "collapsed": false
   },
   "outputs": [],
   "source": [
    "for IT=1:(TMAX/DT),\n",
    "    TIME(IT)=IT*DT*sqrt(omegak2(1))/2/pi; % Time iteration loop \n",
    "    YX(IT,1:N+1)=[0 Y(IT,1:N )]; YV(IT,1:N+1)=[0 Y(IT,N+1:2*N )]; \n",
    "    sXF(IT,:)=imag(fft([YX(IT,1:N+1) 0 -YX(IT,N+1:-1:2)]))/sqrt(2*(N+1)); \n",
    "    sVF(IT,:)=imag(fft([YV(IT,1:N+1) 0 -YV(IT,N+1:-1:2)]))/sqrt(2*(N+1)); \n",
    "    Energ(IT,1:N)=(omegak2(1:N).*(sXF(IT,2:N+1).^2)+sVF(IT,2:N+1).^2)/2; \n",
    "    for J=2:N-1, % Space loop \n",
    "        DifY(IT,J)=Y(IT,J+1)-Y(IT,J); \n",
    "    end \n",
    "end "
   ]
  },
  {
   "cell_type": "code",
   "execution_count": 44,
   "metadata": {
    "collapsed": false
   },
   "outputs": [
    {
     "data": {
      "image/png": "[encoded data removed]",
      "text/plain": [
       "<IPython.core.display.Image object>"
      ]
     },
     "metadata": {},
     "output_type": "display_data"
    }
   ],
   "source": [
    "plot(TIME,Energ(:,1),TIME,Energ(:,2),TIME,Energ(:,3),TIME,Energ(:,4)); "
   ]
  },
  {
   "cell_type": "code",
   "execution_count": 45,
   "metadata": {
    "collapsed": false
   },
   "outputs": [
    {
     "data": {
      "image/png": "[encoded data removed]",
      "text/plain": [
       "<IPython.core.display.Image object>"
      ]
     },
     "metadata": {},
     "output_type": "display_data"
    }
   ],
   "source": [
    "surf(DifY); % Space derivative field to show the soliton dynamics"
   ]
  }
 ],
 "metadata": {
  "anaconda-cloud": {},
  "kernelspec": {
   "display_name": "Matlab",
   "language": "matlab",
   "name": "matlab"
  },
  "language_info": {
   "codemirror_mode": "octave",
   "file_extension": ".m",
   "help_links": [
    {
     "text": "MetaKernel Magics",
     "url": "https://github.com/calysto/metakernel/blob/master/metakernel/magics/README.md"
    }
   ],
   "mimetype": "text/x-octave",
   "name": "matlab",
   "version": "0.11.0"
  }
 },
 "nbformat": 4,
 "nbformat_minor": 1
}
